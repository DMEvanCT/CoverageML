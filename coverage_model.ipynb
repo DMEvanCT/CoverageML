{
 "cells": [
  {
   "cell_type": "code",
   "execution_count": 33,
   "metadata": {
    "collapsed": true,
    "ExecuteTime": {
     "start_time": "2023-04-26T22:20:45.204702Z",
     "end_time": "2023-04-26T22:20:45.204824Z"
    }
   },
   "outputs": [],
   "source": [
    "import pandas as pd\n",
    "from sklearn.tree import DecisionTreeClassifier\n",
    "from sklearn.model_selection import train_test_split\n",
    "from sklearn.metrics import accuracy_score\n",
    "import pickle"
   ]
  },
  {
   "cell_type": "code",
   "execution_count": 34,
   "outputs": [],
   "source": [
    "df = pd.read_csv('car_insurance.csv')"
   ],
   "metadata": {
    "collapsed": false,
    "ExecuteTime": {
     "start_time": "2023-04-26T22:20:45.593606Z",
     "end_time": "2023-04-26T22:20:45.593721Z"
    }
   }
  },
  {
   "cell_type": "code",
   "execution_count": 34,
   "outputs": [],
   "source": [],
   "metadata": {
    "collapsed": false,
    "ExecuteTime": {
     "start_time": "2023-04-26T22:20:46.088360Z",
     "end_time": "2023-04-26T22:20:46.088464Z"
    }
   }
  },
  {
   "cell_type": "code",
   "execution_count": 35,
   "outputs": [
    {
     "data": {
      "text/plain": "    age  number_of_tickets  number_of_accidents  maried  owns_car   \n0    20                  2                    0    True      True  \\\n1    18                  0                    2   False     False   \n2    30                  0                    0    True     False   \n3    20                  2                    1   False     False   \n4    25                  2                    0   False     False   \n5    28                  0                    0    True     False   \n6    40                  3                    0    True      True   \n7    25                  3                    0    True     False   \n8    20                 10                    3   False     False   \n9    18                  0                    0   False     False   \n10   25                  1                    0    True      True   \n11   22                 10                    0    True      True   \n12   18                  2                    1   False     False   \n13   18                  0                    0   False     False   \n14   20                  1                    0   False     False   \n15   25                  6                    2   False      True   \n16   23                 12                    3   False      True   \n17   25                  3                    0   False     False   \n18   18                  2                    1   False     False   \n\n    years_licenced  covered  \n0                2     True  \n1                0    False  \n2               14     True  \n3                4    False  \n4                7     True  \n5               12     True  \n6               24     True  \n7                5    False  \n8                2    False  \n9                2     True  \n10               6     True  \n11               5    False  \n12               2    False  \n13               0     True  \n14               4     True  \n15               3    False  \n16               7    False  \n17               9     True  \n18               0    False  ",
      "text/html": "<div>\n<style scoped>\n    .dataframe tbody tr th:only-of-type {\n        vertical-align: middle;\n    }\n\n    .dataframe tbody tr th {\n        vertical-align: top;\n    }\n\n    .dataframe thead th {\n        text-align: right;\n    }\n</style>\n<table border=\"1\" class=\"dataframe\">\n  <thead>\n    <tr style=\"text-align: right;\">\n      <th></th>\n      <th>age</th>\n      <th>number_of_tickets</th>\n      <th>number_of_accidents</th>\n      <th>maried</th>\n      <th>owns_car</th>\n      <th>years_licenced</th>\n      <th>covered</th>\n    </tr>\n  </thead>\n  <tbody>\n    <tr>\n      <th>0</th>\n      <td>20</td>\n      <td>2</td>\n      <td>0</td>\n      <td>True</td>\n      <td>True</td>\n      <td>2</td>\n      <td>True</td>\n    </tr>\n    <tr>\n      <th>1</th>\n      <td>18</td>\n      <td>0</td>\n      <td>2</td>\n      <td>False</td>\n      <td>False</td>\n      <td>0</td>\n      <td>False</td>\n    </tr>\n    <tr>\n      <th>2</th>\n      <td>30</td>\n      <td>0</td>\n      <td>0</td>\n      <td>True</td>\n      <td>False</td>\n      <td>14</td>\n      <td>True</td>\n    </tr>\n    <tr>\n      <th>3</th>\n      <td>20</td>\n      <td>2</td>\n      <td>1</td>\n      <td>False</td>\n      <td>False</td>\n      <td>4</td>\n      <td>False</td>\n    </tr>\n    <tr>\n      <th>4</th>\n      <td>25</td>\n      <td>2</td>\n      <td>0</td>\n      <td>False</td>\n      <td>False</td>\n      <td>7</td>\n      <td>True</td>\n    </tr>\n    <tr>\n      <th>5</th>\n      <td>28</td>\n      <td>0</td>\n      <td>0</td>\n      <td>True</td>\n      <td>False</td>\n      <td>12</td>\n      <td>True</td>\n    </tr>\n    <tr>\n      <th>6</th>\n      <td>40</td>\n      <td>3</td>\n      <td>0</td>\n      <td>True</td>\n      <td>True</td>\n      <td>24</td>\n      <td>True</td>\n    </tr>\n    <tr>\n      <th>7</th>\n      <td>25</td>\n      <td>3</td>\n      <td>0</td>\n      <td>True</td>\n      <td>False</td>\n      <td>5</td>\n      <td>False</td>\n    </tr>\n    <tr>\n      <th>8</th>\n      <td>20</td>\n      <td>10</td>\n      <td>3</td>\n      <td>False</td>\n      <td>False</td>\n      <td>2</td>\n      <td>False</td>\n    </tr>\n    <tr>\n      <th>9</th>\n      <td>18</td>\n      <td>0</td>\n      <td>0</td>\n      <td>False</td>\n      <td>False</td>\n      <td>2</td>\n      <td>True</td>\n    </tr>\n    <tr>\n      <th>10</th>\n      <td>25</td>\n      <td>1</td>\n      <td>0</td>\n      <td>True</td>\n      <td>True</td>\n      <td>6</td>\n      <td>True</td>\n    </tr>\n    <tr>\n      <th>11</th>\n      <td>22</td>\n      <td>10</td>\n      <td>0</td>\n      <td>True</td>\n      <td>True</td>\n      <td>5</td>\n      <td>False</td>\n    </tr>\n    <tr>\n      <th>12</th>\n      <td>18</td>\n      <td>2</td>\n      <td>1</td>\n      <td>False</td>\n      <td>False</td>\n      <td>2</td>\n      <td>False</td>\n    </tr>\n    <tr>\n      <th>13</th>\n      <td>18</td>\n      <td>0</td>\n      <td>0</td>\n      <td>False</td>\n      <td>False</td>\n      <td>0</td>\n      <td>True</td>\n    </tr>\n    <tr>\n      <th>14</th>\n      <td>20</td>\n      <td>1</td>\n      <td>0</td>\n      <td>False</td>\n      <td>False</td>\n      <td>4</td>\n      <td>True</td>\n    </tr>\n    <tr>\n      <th>15</th>\n      <td>25</td>\n      <td>6</td>\n      <td>2</td>\n      <td>False</td>\n      <td>True</td>\n      <td>3</td>\n      <td>False</td>\n    </tr>\n    <tr>\n      <th>16</th>\n      <td>23</td>\n      <td>12</td>\n      <td>3</td>\n      <td>False</td>\n      <td>True</td>\n      <td>7</td>\n      <td>False</td>\n    </tr>\n    <tr>\n      <th>17</th>\n      <td>25</td>\n      <td>3</td>\n      <td>0</td>\n      <td>False</td>\n      <td>False</td>\n      <td>9</td>\n      <td>True</td>\n    </tr>\n    <tr>\n      <th>18</th>\n      <td>18</td>\n      <td>2</td>\n      <td>1</td>\n      <td>False</td>\n      <td>False</td>\n      <td>0</td>\n      <td>False</td>\n    </tr>\n  </tbody>\n</table>\n</div>"
     },
     "execution_count": 35,
     "metadata": {},
     "output_type": "execute_result"
    }
   ],
   "source": [
    "df"
   ],
   "metadata": {
    "collapsed": false,
    "ExecuteTime": {
     "start_time": "2023-04-26T22:20:46.327135Z",
     "end_time": "2023-04-26T22:20:46.327223Z"
    }
   }
  },
  {
   "cell_type": "code",
   "execution_count": 36,
   "outputs": [],
   "source": [
    "X = df.drop('covered', axis=1)\n",
    "y = df['covered']\n",
    "X_train, X_test, y_train, y_test = train_test_split(X, y, test_size=0.2, random_state=0)"
   ],
   "metadata": {
    "collapsed": false,
    "ExecuteTime": {
     "start_time": "2023-04-26T22:20:47.079006Z",
     "end_time": "2023-04-26T22:20:47.079128Z"
    }
   }
  },
  {
   "cell_type": "code",
   "execution_count": 37,
   "outputs": [
    {
     "name": "stdout",
     "output_type": "stream",
     "text": [
      "Accuracy: 1.0\n"
     ]
    }
   ],
   "source": [
    "clf = DecisionTreeClassifier()\n",
    "clf.fit(X_train, y_train)\n",
    "\n",
    "# Predict on the test set\n",
    "y_pred = clf.predict(X_test)\n",
    "\n",
    "# Evaluate the accuracy of the model\n",
    "accuracy = accuracy_score(y_test, y_pred)\n",
    "print(\"Accuracy:\", accuracy)"
   ],
   "metadata": {
    "collapsed": false,
    "ExecuteTime": {
     "start_time": "2023-04-26T22:20:48.851024Z",
     "end_time": "2023-04-26T22:20:48.851115Z"
    }
   }
  },
  {
   "cell_type": "code",
   "execution_count": 38,
   "outputs": [],
   "source": [
    "# Save the trained model from a file\n",
    "with open('auto_insurance_model.pkl', 'wb') as file:\n",
    "    pickle.dump(clf, file)"
   ],
   "metadata": {
    "collapsed": false,
    "ExecuteTime": {
     "start_time": "2023-04-26T22:20:52.304018Z",
     "end_time": "2023-04-26T22:20:52.304117Z"
    }
   }
  },
  {
   "cell_type": "code",
   "execution_count": null,
   "outputs": [],
   "source": [],
   "metadata": {
    "collapsed": false
   }
  }
 ],
 "metadata": {
  "kernelspec": {
   "display_name": "Python 3",
   "language": "python",
   "name": "python3"
  },
  "language_info": {
   "codemirror_mode": {
    "name": "ipython",
    "version": 2
   },
   "file_extension": ".py",
   "mimetype": "text/x-python",
   "name": "python",
   "nbconvert_exporter": "python",
   "pygments_lexer": "ipython2",
   "version": "2.7.6"
  }
 },
 "nbformat": 4,
 "nbformat_minor": 0
}
