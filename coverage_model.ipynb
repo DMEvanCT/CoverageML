{
 "cells": [
  {
   "cell_type": "code",
   "execution_count": 36,
   "metadata": {
    "collapsed": true,
    "ExecuteTime": {
     "start_time": "2023-04-27T08:26:56.478112Z",
     "end_time": "2023-04-27T08:26:56.483627Z"
    }
   },
   "outputs": [],
   "source": [
    "import pandas as pd\n",
    "from sklearn.tree import DecisionTreeClassifier\n",
    "from sklearn.model_selection import train_test_split\n",
    "from sklearn.metrics import accuracy_score\n",
    "import pickle"
   ]
  },
  {
   "cell_type": "code",
   "execution_count": 37,
   "outputs": [],
   "source": [
    "df = pd.read_csv('car_insurance.csv')"
   ],
   "metadata": {
    "collapsed": false,
    "ExecuteTime": {
     "start_time": "2023-04-27T08:26:56.768231Z",
     "end_time": "2023-04-27T08:26:56.773670Z"
    }
   }
  },
  {
   "cell_type": "code",
   "execution_count": 37,
   "outputs": [],
   "source": [],
   "metadata": {
    "collapsed": false,
    "ExecuteTime": {
     "start_time": "2023-04-27T08:26:57.112735Z",
     "end_time": "2023-04-27T08:26:57.114890Z"
    }
   }
  },
  {
   "cell_type": "code",
   "execution_count": 38,
   "outputs": [
    {
     "data": {
      "text/plain": "     age  number_of_tickets  number_of_accidents  maried  owns_car   \n0     20                  2                    0    True      True  \\\n1     18                  0                    2   False     False   \n2     30                  0                    0    True     False   \n3     20                  2                    1   False     False   \n4     25                  2                    0   False     False   \n..   ...                ...                  ...     ...       ...   \n116   20                  2                    1   False     False   \n117   25                  2                    0   False     False   \n118   28                  0                    0    True     False   \n119   40                  3                    0    True      True   \n120   25                  3                    0    True     False   \n\n     years_licenced  covered  \n0                 2     True  \n1                 0    False  \n2                14     True  \n3                 4    False  \n4                 7     True  \n..              ...      ...  \n116               4    False  \n117               7     True  \n118              12     True  \n119              24     True  \n120               5    False  \n\n[121 rows x 7 columns]",
      "text/html": "<div>\n<style scoped>\n    .dataframe tbody tr th:only-of-type {\n        vertical-align: middle;\n    }\n\n    .dataframe tbody tr th {\n        vertical-align: top;\n    }\n\n    .dataframe thead th {\n        text-align: right;\n    }\n</style>\n<table border=\"1\" class=\"dataframe\">\n  <thead>\n    <tr style=\"text-align: right;\">\n      <th></th>\n      <th>age</th>\n      <th>number_of_tickets</th>\n      <th>number_of_accidents</th>\n      <th>maried</th>\n      <th>owns_car</th>\n      <th>years_licenced</th>\n      <th>covered</th>\n    </tr>\n  </thead>\n  <tbody>\n    <tr>\n      <th>0</th>\n      <td>20</td>\n      <td>2</td>\n      <td>0</td>\n      <td>True</td>\n      <td>True</td>\n      <td>2</td>\n      <td>True</td>\n    </tr>\n    <tr>\n      <th>1</th>\n      <td>18</td>\n      <td>0</td>\n      <td>2</td>\n      <td>False</td>\n      <td>False</td>\n      <td>0</td>\n      <td>False</td>\n    </tr>\n    <tr>\n      <th>2</th>\n      <td>30</td>\n      <td>0</td>\n      <td>0</td>\n      <td>True</td>\n      <td>False</td>\n      <td>14</td>\n      <td>True</td>\n    </tr>\n    <tr>\n      <th>3</th>\n      <td>20</td>\n      <td>2</td>\n      <td>1</td>\n      <td>False</td>\n      <td>False</td>\n      <td>4</td>\n      <td>False</td>\n    </tr>\n    <tr>\n      <th>4</th>\n      <td>25</td>\n      <td>2</td>\n      <td>0</td>\n      <td>False</td>\n      <td>False</td>\n      <td>7</td>\n      <td>True</td>\n    </tr>\n    <tr>\n      <th>...</th>\n      <td>...</td>\n      <td>...</td>\n      <td>...</td>\n      <td>...</td>\n      <td>...</td>\n      <td>...</td>\n      <td>...</td>\n    </tr>\n    <tr>\n      <th>116</th>\n      <td>20</td>\n      <td>2</td>\n      <td>1</td>\n      <td>False</td>\n      <td>False</td>\n      <td>4</td>\n      <td>False</td>\n    </tr>\n    <tr>\n      <th>117</th>\n      <td>25</td>\n      <td>2</td>\n      <td>0</td>\n      <td>False</td>\n      <td>False</td>\n      <td>7</td>\n      <td>True</td>\n    </tr>\n    <tr>\n      <th>118</th>\n      <td>28</td>\n      <td>0</td>\n      <td>0</td>\n      <td>True</td>\n      <td>False</td>\n      <td>12</td>\n      <td>True</td>\n    </tr>\n    <tr>\n      <th>119</th>\n      <td>40</td>\n      <td>3</td>\n      <td>0</td>\n      <td>True</td>\n      <td>True</td>\n      <td>24</td>\n      <td>True</td>\n    </tr>\n    <tr>\n      <th>120</th>\n      <td>25</td>\n      <td>3</td>\n      <td>0</td>\n      <td>True</td>\n      <td>False</td>\n      <td>5</td>\n      <td>False</td>\n    </tr>\n  </tbody>\n</table>\n<p>121 rows × 7 columns</p>\n</div>"
     },
     "execution_count": 38,
     "metadata": {},
     "output_type": "execute_result"
    }
   ],
   "source": [
    "df"
   ],
   "metadata": {
    "collapsed": false,
    "ExecuteTime": {
     "start_time": "2023-04-27T08:26:57.532293Z",
     "end_time": "2023-04-27T08:26:57.538062Z"
    }
   }
  },
  {
   "cell_type": "code",
   "execution_count": 39,
   "outputs": [],
   "source": [
    "X = df.drop('covered', axis=1)\n",
    "y = df['covered']\n",
    "X_train, X_test, y_train, y_test = train_test_split(X, y, test_size=0.2, random_state=0)"
   ],
   "metadata": {
    "collapsed": false,
    "ExecuteTime": {
     "start_time": "2023-04-27T08:26:57.864541Z",
     "end_time": "2023-04-27T08:26:57.868499Z"
    }
   }
  },
  {
   "cell_type": "code",
   "execution_count": 40,
   "outputs": [
    {
     "name": "stdout",
     "output_type": "stream",
     "text": [
      "Accuracy: 1.0\n"
     ]
    }
   ],
   "source": [
    "clf = DecisionTreeClassifier()\n",
    "clf.fit(X_train, y_train)\n",
    "\n",
    "# Predict on the test set\n",
    "y_pred = clf.predict(X_test)\n",
    "\n",
    "# Evaluate the accuracy of the model\n",
    "accuracy = accuracy_score(y_test, y_pred)\n",
    "print(\"Accuracy:\", accuracy)"
   ],
   "metadata": {
    "collapsed": false,
    "ExecuteTime": {
     "start_time": "2023-04-27T08:27:00.071208Z",
     "end_time": "2023-04-27T08:27:00.078630Z"
    }
   }
  },
  {
   "cell_type": "code",
   "execution_count": 41,
   "outputs": [],
   "source": [
    "# Save the trained model from a file\n",
    "with open('auto_insurance_model.pkl', 'wb') as file:\n",
    "    pickle.dump(clf, file)"
   ],
   "metadata": {
    "collapsed": false,
    "ExecuteTime": {
     "start_time": "2023-04-27T08:27:03.694411Z",
     "end_time": "2023-04-27T08:27:03.697557Z"
    }
   }
  },
  {
   "cell_type": "code",
   "execution_count": null,
   "outputs": [],
   "source": [],
   "metadata": {
    "collapsed": false
   }
  }
 ],
 "metadata": {
  "kernelspec": {
   "display_name": "Python 3",
   "language": "python",
   "name": "python3"
  },
  "language_info": {
   "codemirror_mode": {
    "name": "ipython",
    "version": 2
   },
   "file_extension": ".py",
   "mimetype": "text/x-python",
   "name": "python",
   "nbconvert_exporter": "python",
   "pygments_lexer": "ipython2",
   "version": "2.7.6"
  }
 },
 "nbformat": 4,
 "nbformat_minor": 0
}
